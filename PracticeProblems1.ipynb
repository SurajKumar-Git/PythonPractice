{
 "cells": [
  {
   "cell_type": "code",
   "execution_count": 1,
   "metadata": {},
   "outputs": [
    {
     "name": "stdout",
     "output_type": "stream",
     "text": "Square\nArea: 100\n"
    }
   ],
   "source": [
    "#1. Take values of length and breadth of a rectangle from user and check if it is square or not. Return area.\n",
    "\n",
    "length = 10\n",
    "breadth = 10\n",
    "\n",
    "if length == breadth:\n",
    "    print(\"Square\")\n",
    "else:\n",
    "    print(\"Rectangle\")\n",
    "area = length * breadth\n",
    "print(\"Area:\", area)"
   ]
  },
  {
   "cell_type": "code",
   "execution_count": 13,
   "metadata": {},
   "outputs": [
    {
     "name": "stdout",
     "output_type": "stream",
     "text": "Area of Circle: 314.0\n"
    }
   ],
   "source": [
    "#2. Write a Python program which accepts the radius of a circle from the user and compute the area.\n",
    "\n",
    "radius = 10\n",
    "PI = 3.14\n",
    "area = PI * radius ** 2\n",
    "print(\"Area of Circle:\", area)"
   ]
  },
  {
   "cell_type": "code",
   "execution_count": 14,
   "metadata": {},
   "outputs": [
    {
     "name": "stdout",
     "output_type": "stream",
     "text": "Value of N: 5\nComputed value of n+nn+nnn: 615\n"
    }
   ],
   "source": [
    "#3. Write a Python program that accepts an integer (n) and computes the value of n+nn+nnn.\n",
    "\n",
    "n = 5\n",
    "value = n * (1 + 11 + 111)\n",
    "print(\"Value of N:\", n)\n",
    "print(\"Computed value of n+nn+nnn:\", value)"
   ]
  },
  {
   "cell_type": "code",
   "execution_count": 15,
   "metadata": {},
   "outputs": [
    {
     "name": "stdout",
     "output_type": "stream",
     "text": "NetSalary after pf deduction: 8800.0\n"
    }
   ],
   "source": [
    "#4. A company decided to deduct pf of 12% of salary if year of service is less than 5 year and 24% employee if his/her year of service is more than 5 years.\n",
    "#Ask user for their salary and year of service and print the net in-hand salary after pf deduction.\n",
    "\n",
    "salary = 10000\n",
    "year_of_service = 2\n",
    "\n",
    "if year_of_service < 5:\n",
    "    pf_percent = 12\n",
    "else:\n",
    "    pf_percent = 24\n",
    "    \n",
    "net_salary = salary * ( 1 - pf_percent / 100)\n",
    "print(\"NetSalary after pf deduction:\", net_salary)"
   ]
  },
  {
   "cell_type": "markdown",
   "metadata": {},
   "source": [
    "5. A school has following rules for grading system:\n",
    "    a. Below 40 - F\n",
    "    b. 40 to 50 - C\n",
    "    c. 50 to 60 - C+\n",
    "    d. 60 to 70 - B\n",
    "    e. 70 to 80 - B+\n",
    "    f. 80 to 90 - A\n",
    "    g. Above 90 - A+\n",
    "    Ask user to enter marks for their 5 main subject and print the corresponding grade and overall grade for average of marks.\n"
   ]
  },
  {
   "cell_type": "code",
   "execution_count": 5,
   "metadata": {},
   "outputs": [],
   "source": [
    "#5:Answer\n",
    "subjects = [60,35,90,80,45]\n",
    "avg = subjects[0] + subjects[1] + subjects[2] + subjects[3] + subjects[4] / 5\n",
    "\n",
    "\n"
   ]
  },
  {
   "cell_type": "markdown",
   "metadata": {},
   "source": [
    "6. A student will not be allowed to sit in exam if his/her attendence is less than 75%.\n",
    "    Take following input from user\n",
    "    Number of classes held\n",
    "    Number of classes attended.\n",
    "    And print\n",
    "    percentage of class attended\n",
    "    Is student is allowed to sit in exam or not.\n",
    "\n",
    "7. Modify the above question to allow student to sit if he/she has medical cause reduce attendance criteria to 60%. Ask user if he/she has medical cause or not ( 'Y' or 'N' ) and print accordingly."
   ]
  },
  {
   "cell_type": "code",
   "execution_count": 16,
   "metadata": {},
   "outputs": [
    {
     "name": "stdout",
     "output_type": "stream",
     "text": "Attendence Percentage: 50.0\nNot Eligible to sit in Exam\n"
    }
   ],
   "source": [
    "#6 and 7:Answer\n",
    "\n",
    "number_of_classes_attended = 50\n",
    "number_of_classes_held = 100\n",
    "medical_cause = \"N\"\n",
    "\n",
    "attendence_percent = number_of_classes_attended / number_of_classes_held * 100\n",
    "print(\"Attendence Percentage:\", attendence_percent)\n",
    "\n",
    "if attendence_percent >= 75:\n",
    "    print(\"Eligible to sit in Exam\")\n",
    "elif medical_cause == \"Y\" and attendence_percent >= 60:\n",
    "    print(\"Due to medical emergency : Allowed to sit in Exam even afer attendance percent is less than 75\")\n",
    "else:\n",
    "    print(\"Not Eligible to sit in Exam\")"
   ]
  },
  {
   "cell_type": "markdown",
   "metadata": {},
   "source": [
    "8. Write a program to check if a year is leap year or not.\n",
    "   If a year is divisible by 4 then it is leap year but if the year is century year like 2000, 1900, 2100 then it must be divisible by 400."
   ]
  },
  {
   "cell_type": "code",
   "execution_count": 17,
   "metadata": {},
   "outputs": [
    {
     "name": "stdout",
     "output_type": "stream",
     "text": "Leap Year\n"
    }
   ],
   "source": [
    "year = 2000\n",
    "\n",
    "if year % 4 == 0:\n",
    "    if year % 100 == 0:\n",
    "        if year % 400 == 0:\n",
    "            print(\"Leap Year\")\n",
    "        else:\n",
    "            print(\"Not Leap Year\")\n",
    "    else:\n",
    "        print(\"Leap Year\")\n",
    "else:\n",
    "    print(\"Not a leap year\")"
   ]
  },
  {
   "cell_type": "code",
   "execution_count": 18,
   "metadata": {},
   "outputs": [
    {
     "name": "stdout",
     "output_type": "stream",
     "text": "Not Leap Year\n"
    }
   ],
   "source": [
    "year = 1900\n",
    "\n",
    "if year % 4 == 0 and ((year % 100 == 0) == (year % 400 == 0)):\n",
    "    print(\"Leap Year\")\n",
    "else:\n",
    "    print(\"Not Leap Year\")"
   ]
  },
  {
   "cell_type": "markdown",
   "metadata": {},
   "source": [
    "9. Ask user to enter age, gender ( M or F ), marital status ( Y or N ) and then using following rules print their place of service.\n",
    "if employee is female, then she will work only in urban areas.\n",
    "\n",
    "if employee is a male and age is in between 20 to 30 and not married then he may work in anywhere.\n",
    "\n",
    "if employee is a female and age is in between 20 to 30 and not married then she may work in urban areas.\n",
    "\n",
    "if employee is male and age is in between 20 t0 30 and married then he will work in nearby Hometown.\n",
    "\n",
    "if employee is female and age is in between 20 t0 30 and married then she will work in her husband's city.\n",
    "\n",
    "And any other input of age should print \"ERROR\"."
   ]
  },
  {
   "cell_type": "code",
   "execution_count": 19,
   "metadata": {},
   "outputs": [
    {
     "name": "stdout",
     "output_type": "stream",
     "text": "Bachelor Male employee can work anywhere\n"
    }
   ],
   "source": [
    "age = 25\n",
    "gender = \"M\"\n",
    "marital_status = \"N\"\n",
    "\n",
    "if(age >= 20 and age <= 30):\n",
    "    if gender == \"F\" and marital_status == \"Y\" :\n",
    "        print(\"Female Employee will work in Husband's city\")\n",
    "    elif gender == \"F\":\n",
    "        print(\"Female Employee will work only in urban areas\")\n",
    "    elif gender == \"M\" and marital_status == \"Y\":\n",
    "        print(\"Male married employee will work in nearby Hometown\")\n",
    "    else:\n",
    "        print(\"Bachelor Male employee can work anywhere\")\n",
    "else:\n",
    "    print(\"ERROR\")"
   ]
  },
  {
   "cell_type": "markdown",
   "metadata": {},
   "source": [
    "10. A 4 digit number is entered through keyboard. Write a program to print a new number with digits reversed as of orignal one. E.g.-\n",
    "INPUT : 1234        OUTPUT : 4321\n",
    "INPUT : 5982        OUTPUT : 2895\n",
    "NOTE:- Do not use builtin functions e.g. sort(), reverse() and loop try to solve it by if-else"
   ]
  },
  {
   "cell_type": "code",
   "execution_count": 20,
   "metadata": {},
   "outputs": [
    {
     "name": "stdout",
     "output_type": "stream",
     "text": "Reverse:  4321\n"
    }
   ],
   "source": [
    "#only for 4 or less digits number \n",
    "number = 1234\n",
    "reverse = 0\n",
    "if(number < 0):\n",
    "    print(\"Number is invalid\")\n",
    "else:\n",
    "    if(number):\n",
    "        last_digit = number % 10\n",
    "        reverse = reverse * 10 + last_digit\n",
    "        number = number // 10\n",
    "    \n",
    "    if(number):\n",
    "        last_digit = number % 10\n",
    "        reverse = reverse * 10 + last_digit\n",
    "        number = number // 10\n",
    "        \n",
    "    if(number):\n",
    "        last_digit = number % 10\n",
    "        reverse = reverse * 10 + last_digit\n",
    "        number = number // 10\n",
    "    \n",
    "    if(number):\n",
    "        last_digit = number % 10\n",
    "        reverse = reverse * 10 + last_digit\n",
    "        number = number // 10\n",
    "\n",
    "print(\"Reverse: \", reverse);"
   ]
  },
  {
   "cell_type": "markdown",
   "metadata": {},
   "source": [
    "11. Write a program to find sum of digits of given number by user answer should be of single digit.\n",
    "    Example: input: 25643\n",
    "    sum of digits of 2+5+6+4+3 = 20\n",
    "    again find sum of digits of 20 and final answer would be 2+0 = 2"
   ]
  },
  {
   "cell_type": "code",
   "execution_count": 21,
   "metadata": {},
   "outputs": [
    {
     "name": "stdout",
     "output_type": "stream",
     "text": "Sum of digits 1\n"
    }
   ],
   "source": [
    "#only for 5 or less digits number \n",
    "number = 1234\n",
    "sum = 0\n",
    "if(number < 10):\n",
    "    sum = number\n",
    "else:\n",
    "    if(number):\n",
    "        last_digit = number % 10\n",
    "        number //= 10\n",
    "        sum += last_digit\n",
    "        \n",
    "    if(number):\n",
    "        last_digit = number % 10\n",
    "        number //= 10\n",
    "        sum += last_digit\n",
    "        \n",
    "    if(number):\n",
    "        last_digit = number % 10\n",
    "        number //= 10\n",
    "        sum += last_digit\n",
    "    \n",
    "    if(number):\n",
    "        last_digit = number % 10\n",
    "        number //= 10\n",
    "        sum += last_digit\n",
    "    \n",
    "    if(number):\n",
    "        last_digit = number % 10\n",
    "        number //= 10\n",
    "        sum += last_digit\n",
    "\n",
    "if(sum >= 10):\n",
    "    last_digit = sum % 10\n",
    "    sum = sum // 10 + last_digit\n",
    " \n",
    "print(\"Sum of digits\", sum)"
   ]
  },
  {
   "cell_type": "markdown",
   "metadata": {},
   "source": [
    "12. Write a Python program to find those numbers which are divisible by 7 and multiple of 5, between 1500 and 2700 (both included)."
   ]
  },
  {
   "cell_type": "code",
   "execution_count": null,
   "metadata": {},
   "outputs": [],
   "source": []
  },
  {
   "cell_type": "markdown",
   "metadata": {},
   "source": [
    "13. A shop will give discount of 10% max upto 100rs if the cost of purchased quantity is more than 1000.\n",
    "    Ask user for quantity\n",
    "    Suppose, one unit will cost 100rs.\n",
    "    Judge and print total cost for user."
   ]
  },
  {
   "cell_type": "code",
   "execution_count": 22,
   "metadata": {},
   "outputs": [
    {
     "name": "stdout",
     "output_type": "stream",
     "text": "Total Cost: 1000\nFinal Cost after discount: 1000\n"
    }
   ],
   "source": [
    "quantity = 10\n",
    "UNITCOST = 100\n",
    "DISCOUNT_PERCENT = 10\n",
    "MAX_DISCOUNT = 100\n",
    "discount = 0\n",
    "total_cost = quantity * UNITCOST\n",
    "\n",
    "if total_cost > 1000:\n",
    "    discount = total_cost * DISCOUNT_PERCENT / 100\n",
    "    if discount > 100:\n",
    "        discount = MAX_DISCOUNT\n",
    "\n",
    "final_cost = total_cost - discount\n",
    "print(\"Total Cost:\", total_cost)\n",
    "print(\"Final Cost after discount:\", final_cost)"
   ]
  },
  {
   "cell_type": "markdown",
   "metadata": {},
   "source": [
    "14. Write a Python program to calculate number of days between two dates."
   ]
  },
  {
   "cell_type": "code",
   "execution_count": 13,
   "metadata": {},
   "outputs": [],
   "source": [
    "\n"
   ]
  }
 ],
 "metadata": {
  "kernelspec": {
   "display_name": "Python 3",
   "language": "python",
   "name": "python3"
  },
  "language_info": {
   "codemirror_mode": {
    "name": "ipython",
    "version": 3
   },
   "file_extension": ".py",
   "mimetype": "text/x-python",
   "name": "python",
   "nbconvert_exporter": "python",
   "pygments_lexer": "ipython3",
   "version": "3.7.6-final"
  }
 },
 "nbformat": 4,
 "nbformat_minor": 4
}