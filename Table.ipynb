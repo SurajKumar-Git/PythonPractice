{
 "nbformat": 4,
 "nbformat_minor": 2,
 "metadata": {
  "language_info": {
   "name": "python",
   "codemirror_mode": {
    "name": "ipython",
    "version": 3
   },
   "version": "3.7.6-final"
  },
  "orig_nbformat": 2,
  "file_extension": ".py",
  "mimetype": "text/x-python",
  "name": "python",
  "npconvert_exporter": "python",
  "pygments_lexer": "ipython3",
  "version": 3,
  "kernelspec": {
   "name": "python37632bitb3efeef0198b4651948806f5a3fcf4ba",
   "display_name": "Python 3.7.6 32-bit"
  }
 },
 "cells": [
  {
   "cell_type": "code",
   "execution_count": 1,
   "metadata": {},
   "outputs": [
    {
     "name": "stdout",
     "output_type": "stream",
     "text": "1\t2\t3\t4\t5\n2\t4\t6\t8\t10\n3\t6\t9\t12\t15\n4\t8\t12\t16\t20\n5\t10\t15\t20\t25\n6\t12\t18\t24\t30\n7\t14\t21\t28\t35\n8\t16\t24\t32\t40\n9\t18\t27\t36\t45\n10\t20\t30\t40\t50\n"
    }
   ],
   "source": [
    "for i in range(1,11):\n",
    "    print(1*i,2*i,3*i,4*i,5*i,sep=\"\\t\")\n",
    " "
   ]
  }
 ]
}