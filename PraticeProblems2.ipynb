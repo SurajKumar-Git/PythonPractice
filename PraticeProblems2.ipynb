{
 "nbformat": 4,
 "nbformat_minor": 2,
 "metadata": {
  "language_info": {
   "name": "python",
   "codemirror_mode": {
    "name": "ipython",
    "version": 3
   },
   "version": "3.7.6-final"
  },
  "orig_nbformat": 2,
  "file_extension": ".py",
  "mimetype": "text/x-python",
  "name": "python",
  "npconvert_exporter": "python",
  "pygments_lexer": "ipython3",
  "version": 3,
  "kernelspec": {
   "name": "python37632bitb3efeef0198b4651948806f5a3fcf4ba",
   "display_name": "Python 3.7.6 32-bit"
  }
 },
 "cells": [
  {
   "cell_type": "markdown",
   "execution_count": null,
   "metadata": {},
   "outputs": [],
   "source": [
    "1. Take 10 integers from keyboard using loop and print their average value on the screen"
   ]
  },
  {
   "cell_type": "code",
   "execution_count": 191,
   "metadata": {},
   "outputs": [
    {
     "name": "stdout",
     "output_type": "stream",
     "text": "To find the avg of 10 numbers\nEnter 10 number:\nAvg of 10 given number is : 5.5\n"
    }
   ],
   "source": [
    "sum = 0\n",
    "avg = 0\n",
    "print(\"To find the avg of 10 numbers\")\n",
    "print(\"Enter 10 number:\")\n",
    "for x in range(10):\n",
    "    input_num = int(input())\n",
    "    sum += input_num\n",
    "\n",
    "avg = sum / 10\n",
    "print(\"Avg of 10 given number is :\", avg)"
   ]
  },
  {
   "cell_type": "markdown",
   "execution_count": null,
   "metadata": {},
   "outputs": [],
   "source": [
    "2. Print multiplication table of 24, 50 and 29 using loop."
   ]
  },
  {
   "cell_type": "code",
   "execution_count": 192,
   "metadata": {},
   "outputs": [
    {
     "name": "stdout",
     "output_type": "stream",
     "text": "Multiplication table\nEnter the number to output multiple table:\n24 * 1 = 24\n24 * 2 = 48\n24 * 3 = 72\n24 * 4 = 96\n24 * 5 = 120\n24 * 6 = 144\n24 * 7 = 168\n24 * 8 = 192\n24 * 9 = 216\n24 * 10 = 240\n"
    }
   ],
   "source": [
    "print(\"Multiplication table\")\n",
    "print(\"Enter the number to output multiple table:\")\n",
    "num = int(input())\n",
    "for x in range(1,11):\n",
    "    print(num,\"*\",x,\"=\",num*x)"
   ]
  },
  {
   "cell_type": "markdown",
   "execution_count": null,
   "metadata": {},
   "outputs": [],
   "source": [
    "3. Take integer inputs from user until user presses q ( Ask to press q to quit after every integer input ). Print average and product of all numbers."
   ]
  },
  {
   "cell_type": "code",
   "execution_count": 175,
   "metadata": {},
   "outputs": [
    {
     "name": "stdout",
     "output_type": "stream",
     "text": "To find the avg and product of given numbers\nEnter numbers(Press q to quit or stop entering numbers: \n1\n5\n4\nAvg = 3.3333333333333335 and Product = 20\n"
    }
   ],
   "source": [
    "sum = 0\n",
    "product = 1\n",
    "i = 0\n",
    "print(\"To find the avg and product of given numbers\")\n",
    "print(\"Enter numbers(Press q to quit or stop entering numbers: \")\n",
    "num = input()\n",
    "if(num != \"q\"):\n",
    "    while(num != \"q\"):\n",
    "        print(num)\n",
    "        sum += int(num)\n",
    "        product *= int(num)\n",
    "        i += 1\n",
    "        num = input()\n",
    "    avg = sum / i\n",
    "    print(\"Avg =\",avg,\"and Product =\",product)\n",
    "else:\n",
    "    print(\"No numbers provided\")\n",
    "\n",
    "\n"
   ]
  },
  {
   "cell_type": "markdown",
   "execution_count": null,
   "metadata": {},
   "outputs": [],
   "source": [
    "4. A three digit number is called Armstrong number if sum of cube of its digit is equal to number itself.\n",
    "E.g.- 153 is an Armstrong number because (13)+(53)+(33) = 153.\n",
    "Write all Armstrong numbers between 100 to 500.\n",
    "\n"
   ]
  },
  {
   "cell_type": "code",
   "execution_count": 193,
   "metadata": {},
   "outputs": [
    {
     "name": "stdout",
     "output_type": "stream",
     "text": "Armstong numbers between 100 to 500\n153\n370\n371\n407\n"
    }
   ],
   "source": [
    "def armstrong(num):\n",
    "    sum_of_cubes_of_digits = 0\n",
    "    while num > 0:\n",
    "        digit =  num % 10\n",
    "        sum_of_cubes_of_digits += (digit ** 3)\n",
    "        num //= 10\n",
    "    return sum_of_cubes_of_digits\n",
    "\n",
    "print(\"Armstong numbers between 100 to 500\")\n",
    "for x in range(100,501):\n",
    "    if (x == armstrong(x)):\n",
    "        print(x)\n",
    "\n"
   ]
  },
  {
   "cell_type": "markdown",
   "execution_count": null,
   "metadata": {},
   "outputs": [],
   "source": [
    "5. Write a Python program which iterates the integers from 1 to 50. For multiples of three print \"Fizz\" instead of the number and for the multiples of five print \"Buzz\". For numbers which are multiples of both three and five print \"FizzBuzz\".\n",
    "Sample Output :\n",
    "fizzbuzz\n",
    "1\n",
    "2\n",
    "fizz\n",
    "4\n",
    "buzz\n",
    "\n"
   ]
  },
  {
   "cell_type": "code",
   "execution_count": 194,
   "metadata": {},
   "outputs": [
    {
     "name": "stdout",
     "output_type": "stream",
     "text": "1\n2\nfizz\n4\nbuzz\nfizz\n7\n8\nfizz\nbuzz\n11\nfizz\n13\n14\nfizzbuzz\n16\n17\nfizz\n19\nbuzz\nfizz\n22\n23\nfizz\nbuzz\n26\nfizz\n28\n29\nfizzbuzz\n31\n32\nfizz\n34\nbuzz\nfizz\n37\n38\nfizz\nbuzz\n41\nfizz\n43\n44\nfizzbuzz\n46\n47\nfizz\n49\nbuzz\n"
    }
   ],
   "source": [
    "for num in range(1,51):\n",
    "    if num % 15 == 0:\n",
    "        print(\"fizzbuzz\")\n",
    "    elif num % 3 == 0:\n",
    "        print(\"fizz\")\n",
    "    elif num % 5 == 0:\n",
    "        print(\"buzz\")\n",
    "    else:\n",
    "        print(num)"
   ]
  },
  {
   "cell_type": "markdown",
   "execution_count": null,
   "metadata": {},
   "outputs": [],
   "source": [
    "6. Write a program to find greatest common divisor (GCD) or highest common factor (HCF) of given two numbers."
   ]
  },
  {
   "cell_type": "code",
   "execution_count": 182,
   "metadata": {},
   "outputs": [
    {
     "name": "stdout",
     "output_type": "stream",
     "text": "GCD of 2 numbers\nInput two numbers\n18 11\nGCD :  1\n"
    }
   ],
   "source": [
    "print(\"GCD of 2 numbers\")\n",
    "print(\"Input two numbers\")\n",
    "num1 = int(input())\n",
    "num2 = int(input())\n",
    "print(num1,num2)\n",
    "while(num2 != 0):\n",
    "    num1 = num1 - num2\n",
    "\n",
    "    if(num1 < num2):\n",
    "        num2 = num1 + num2\n",
    "        num1 =  num2 - num1\n",
    "        num2 = num2 - num1\n",
    "\n",
    "print(\"GCD : \",num1)\n"
   ]
  },
  {
   "cell_type": "markdown",
   "execution_count": null,
   "metadata": {},
   "outputs": [],
   "source": [
    "7. Write a Python program to find numbers between 100 and 400 (both included) where each digit of a number is an even number. The numbers obtained should be printed in a comma-separated sequence."
   ]
  },
  {
   "cell_type": "code",
   "execution_count": 195,
   "metadata": {},
   "outputs": [
    {
     "name": "stdout",
     "output_type": "stream",
     "text": "200,202,204,206,208,220,222,224,226,228,240,242,244,246,248,260,262,264,266,268,280,282,284,286,288,400,"
    }
   ],
   "source": [
    "def check_even_digits(x):\n",
    "    while(x > 0):\n",
    "        last_digit = x % 10\n",
    "        if(last_digit % 2 != 0):\n",
    "            return False\n",
    "        else:\n",
    "            x = x // 10\n",
    "    return True\n",
    "\n",
    "\n",
    "for num in range(100,401):\n",
    "    if check_even_digits(num):\n",
    "        print(num, end=\",\")\n"
   ]
  },
  {
   "cell_type": "markdown",
   "execution_count": null,
   "metadata": {},
   "outputs": [],
   "source": [
    "8.  Write a Python program which takes two digits m (row) and n (column) as input and generates a two-dimensional array. The element value in the i-th row and j-th column of the array should be 2*(i+j).\n",
    "Note :\n",
    "i = 0,1.., m-1\n",
    "j = 0,1, n-1.\n",
    "\n",
    "Test Data : Rows = 3, Columns = 4\n",
    "Expected Result : [[0, 2, 4, 6], [2, 4, 6, 8], [6, 8, 10, 12]]"
   ]
  },
  {
   "cell_type": "code",
   "execution_count": 196,
   "metadata": {},
   "outputs": [
    {
     "name": "stdout",
     "output_type": "stream",
     "text": "Enter value of m (rows) and n (columns) :\n[[0, 2, 4, 6], [2, 4, 6, 8], [4, 6, 8, 10]]\n"
    }
   ],
   "source": [
    "print(\"Enter value of m (rows) and n (columns) :\")\n",
    "m = int(input())\n",
    "n = int(input())\n",
    "matrix=[]\n",
    "for i in range(m):\n",
    "    rows = []\n",
    "    for j in range(n):\n",
    "        rows.append(2 * (i + j))\n",
    "    matrix.append(rows)\n",
    "print(matrix)\n"
   ]
  },
  {
   "cell_type": "markdown",
   "execution_count": null,
   "metadata": {},
   "outputs": [],
   "source": [
    "9. Write a program to find prime factor of a number.\n",
    "If a factor of a number is prime number then it is its prime factor."
   ]
  },
  {
   "cell_type": "code",
   "execution_count": 190,
   "metadata": {},
   "outputs": [
    {
     "name": "stdout",
     "output_type": "stream",
     "text": "Enter Number to find the prime factors: \nThe prime factors of 100\n2 2 5 5"
    }
   ],
   "source": [
    "def find_prime_numbers(num):\n",
    "    is_prime_number = [False,False]\n",
    "    for x in range(2,num+1):\n",
    "        is_prime_number.append(True) \n",
    "\n",
    "    p = 2\n",
    "    while(p * p <= num):\n",
    "        if(is_prime_number[p]):\n",
    "            for i in range(p * p,num+1,p):\n",
    "                is_prime_number[i] = False\n",
    "        p += 1\n",
    "\n",
    "    prime_numbers = []\n",
    "    for i in range(2,num+1):\n",
    "        if(is_prime_number[i]):\n",
    "            prime_numbers.append(i)\n",
    "    \n",
    "    return prime_numbers\n",
    "         \n",
    "\n",
    "print(\"Enter Number to find the prime factors: \")\n",
    "n = int(input())\n",
    "print(\"The prime factors of\",n)\n",
    "prime_numbers = find_prime_numbers(n)\n",
    "for x in prime_numbers:\n",
    "    while n % x == 0:\n",
    "        n = n / x\n",
    "        print(x,end=\" \")\n",
    "\n"
   ]
  },
  {
   "cell_type": "markdown",
   "execution_count": null,
   "metadata": {},
   "outputs": [],
   "source": [
    "10. Write a Python program to get the Fibonacci series. length of series should taken by user.\n",
    "Note : The Fibonacci Sequence is the series of numbers :\n",
    "0, 1, 1, 2, 3, 5, 8, 13, 21, ....\n",
    "Every next number is found by adding up the two numbers before it.\n",
    "Expected Output : 1 1 2 3 5 8 13 21 34."
   ]
  },
  {
   "cell_type": "code",
   "execution_count": 197,
   "metadata": {},
   "outputs": [
    {
     "name": "stdout",
     "output_type": "stream",
     "text": "Fibonacii Series\nEnter the length of series : \n0 1 1 2 3 5 8 13 21 34"
    }
   ],
   "source": [
    "print(\"Fibonacii Series\")\n",
    "print(\"Enter the length of series : \")\n",
    "len = int(input())\n",
    "fib1 = 0\n",
    "fib2 = 1\n",
    "for x in range(len):\n",
    "    if x == 0:\n",
    "        print(x,end=\" \")\n",
    "        continue\n",
    "    if x == 1:\n",
    "        print(x,end=\" \")\n",
    "        continue\n",
    "\n",
    "    fib = fib1 + fib2\n",
    "    fib1 = fib2\n",
    "    fib2 = fib\n",
    "    print(fib,end=\" \")\n",
    "  \n",
    "\n",
    "    "
   ]
  },
  {
   "cell_type": "markdown",
   "execution_count": null,
   "metadata": {},
   "outputs": [],
   "source": [
    "11. A 4 digit number is entered through keyboard. Write a program to print a new number with digits reversed as of orignal one. E.g.-\n",
    "INPUT : 1234        OUTPUT : 4321\n",
    "INPUT : 5982        OUTPUT : 2895\n",
    "NOTE:- Can not use buil-in function e.g. sort(), reverse() use loops here\n",
    "\n"
   ]
  },
  {
   "cell_type": "code",
   "execution_count": 198,
   "metadata": {},
   "outputs": [
    {
     "name": "stdout",
     "output_type": "stream",
     "text": "Enter the number that needs to be reversed: \nReverse:  4321\n"
    }
   ],
   "source": [
    "print(\"Enter the number that needs to be reversed: \")\n",
    "number = int(input())\n",
    "reverse = 0\n",
    "if(number < 0):\n",
    "    print(\"Number is invalid\")\n",
    "else:\n",
    "    while number:\n",
    "        last_digit = number % 10\n",
    "        reverse = reverse * 10 + last_digit\n",
    "        number = number // 10\n",
    "    \n",
    "\n",
    "print(\"Reverse: \", reverse)"
   ]
  },
  {
   "cell_type": "markdown",
   "execution_count": null,
   "metadata": {},
   "outputs": [],
   "source": [
    "12. Write a program to find sum of digits of given number by user answer should be of single digit.\n",
    "Example: input: 25643\n",
    "         sum of digits of 2+5+6+4+3 = 20\n",
    "         again find sum of digits of 20 and final answer would be 2+0 = 2"
   ]
  },
  {
   "cell_type": "code",
   "execution_count": 199,
   "metadata": {},
   "outputs": [
    {
     "name": "stdout",
     "output_type": "stream",
     "text": "Sum of Digits of given number\nEnter the number: \nSum of digits 3\n"
    }
   ],
   "source": [
    "print(\"Sum of Digits of given number\")\n",
    "print(\"Enter the number: \")\n",
    "number = int(input())\n",
    "sum = 0\n",
    "if(number < 10):\n",
    "    sum = number\n",
    "else:\n",
    "    while number:\n",
    "        last_digit = number % 10\n",
    "        number //= 10\n",
    "        sum += last_digit\n",
    "       \n",
    "if(sum >= 10):\n",
    "    last_digit = sum % 10\n",
    "    sum = sum // 10 + last_digit\n",
    " \n",
    "print(\"Sum of digits\", sum)"
   ]
  },
  {
   "cell_type": "code",
   "execution_count": null,
   "metadata": {},
   "outputs": [],
   "source": [
    "# 13. Write a Python program to construct the following pattern, using a nested for loop.\n",
    "\n",
    "# * \n",
    "# * * \n",
    "# * * * \n",
    "# * * * * \n",
    "# * * * * * \n",
    "# * * * * \n",
    "# * * * \n",
    "# * * \n",
    "# *\n",
    "\n"
   ]
  },
  {
   "cell_type": "code",
   "execution_count": 172,
   "metadata": {},
   "outputs": [
    {
     "name": "stdout",
     "output_type": "stream",
     "text": "* \n* * \n* * * \n* * * * \n* * * * * \n* * * * \n* * * \n* * \n* \n"
    }
   ],
   "source": [
    "rows= 9\n",
    "columns = 5\n",
    "for i in range(rows):\n",
    "    if i <= rows // 2:\n",
    "        for j in range(columns):\n",
    "            if i - j >= 0:\n",
    "                print(\"*\", end=\" \")\n",
    "    else:\n",
    "        for j in range(columns):\n",
    "            if i + j <= rows-1:\n",
    "                print(\"*\", end=\" \")\n",
    "    print(\"\")\n"
   ]
  },
  {
   "cell_type": "code",
   "execution_count": null,
   "metadata": {},
   "outputs": [],
   "source": [
    "\n",
    "\n",
    "14. Write a Python program to print alphabet pattern 'A'.\n",
    "\n",
    "  ***                                                                   \n",
    " *   *                                                                  \n",
    " *   *                                                                  \n",
    " *****                                                                  \n",
    " *   *                                                                  \n",
    " *   *                                                                  \n",
    " *   *\n",
    "\n"
   ]
  },
  {
   "cell_type": "code",
   "execution_count": 171,
   "metadata": {},
   "outputs": [
    {
     "name": "stdout",
     "output_type": "stream",
     "text": "\n *** \n*   *\n*   *\n*****\n*   *\n*   *\n*   *\n"
    }
   ],
   "source": [
    "print(\"\")\n",
    "for i in range(7):\n",
    "    if i == 0:\n",
    "        print(\" *** \")\n",
    "        continue\n",
    "    if i == 3:\n",
    "        print(\"*****\")\n",
    "        continue\n",
    "    if i >= 1 and i <= 6:\n",
    "        print(\"*   *\")\n",
    "\n",
    "         "
   ]
  },
  {
   "cell_type": "code",
   "execution_count": null,
   "metadata": {},
   "outputs": [],
   "source": [
    "\n",
    "\n",
    "15. Write a Python program to construct the following pattern, using a nested loop number.\n",
    "Expected Output:\n",
    "\n",
    "1\n",
    "22\n",
    "333\n",
    "4444\n",
    "55555\n",
    "666666\n",
    "7777777\n",
    "88888888\n",
    "999999999\n",
    "\n"
   ]
  },
  {
   "cell_type": "code",
   "execution_count": 200,
   "metadata": {},
   "outputs": [
    {
     "name": "stdout",
     "output_type": "stream",
     "text": "1\n22\n333\n4444\n55555\n666666\n7777777\n88888888\n999999999\n"
    }
   ],
   "source": [
    "for x in range (1,10):\n",
    "    for count in range (1,10):\n",
    "        if count <= x:\n",
    "            print(x,end=\"\")\n",
    "        if count == x:\n",
    "            break\n",
    "    print(\"\")\n",
    "\n",
    "    "
   ]
  },
  {
   "cell_type": "code",
   "execution_count": null,
   "metadata": {},
   "outputs": [],
   "source": [
    "16. Write a Python program to construct the following pattern, using a nested loop number.\n",
    "Expected Output:\n",
    "\n",
    "    * \n",
    "   * * \n",
    "  * * * \n",
    " * * * * \n",
    "* * * * *"
   ]
  },
  {
   "cell_type": "code",
   "execution_count": 170,
   "metadata": {},
   "outputs": [
    {
     "name": "stdout",
     "output_type": "stream",
     "text": "\n    *\n   * *\n  * * *\n * * * *\n* * * * *\n"
    }
   ],
   "source": [
    "print(\"\")\n",
    "for i in range(0,5):\n",
    "    flag = 1\n",
    "    for j in range(0,9):\n",
    "        if j < 4-i:\n",
    "            print(\" \",end=\"\")\n",
    "        elif j >= 4-i and j <= 4+i:\n",
    "            if flag == 1:\n",
    "                print(\"*\",end=\"\")\n",
    "                flag = 0\n",
    "            else:\n",
    "                print(\" \",end=\"\")\n",
    "                flag = 1\n",
    "    print(\"\")\n",
    "    "
   ]
  }
 ]
}